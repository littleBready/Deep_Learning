{
 "cells": [
  {
   "cell_type": "markdown",
   "metadata": {},
   "source": [
    "# ECBM E6040 Homework 2 - Programming Problem"
   ]
  },
  {
   "cell_type": "code",
   "execution_count": 1,
   "metadata": {
    "collapsed": false
   },
   "outputs": [
    {
     "name": "stderr",
     "output_type": "stream",
     "text": [
      "Using gpu device 0: GRID K520\n"
     ]
    }
   ],
   "source": [
    "from __future__ import print_function\n",
    "\n",
    "__docformat__ = 'restructedtext en'\n",
    "\n",
    "\n",
    "import os\n",
    "import sys\n",
    "import timeit\n",
    "\n",
    "import numpy\n",
    "import scipy.io\n",
    "\n",
    "import theano\n",
    "import theano.tensor as T\n",
    "from IPython.display import Image\n",
    "import matplotlib as mpl\n",
    "mpl.use('Agg')\n",
    "from matplotlib import pyplot as plt\n",
    "#from hw2 import load_data, LogisticRegression, HiddenLayer, myMLP, test_mlp\n",
    "from hw2b import load_data, LogisticRegression, HiddenLayer, myMLP, test_mlp"
   ]
  },
  {
   "cell_type": "markdown",
   "metadata": {},
   "source": [
    "### Bullet 2: Comparison between _tanh_ and _softmax_"
   ]
  },
  {
   "cell_type": "code",
   "execution_count": 2,
   "metadata": {
    "collapsed": false
   },
   "outputs": [
    {
     "name": "stdout",
     "output_type": "stream",
     "text": [
      "... loading data\n",
      "... building the model\n",
      "... training\n",
      "Optimization complete. Best validation score of 81.161202 % obtained at iteration 3296, with test performance 80.415065 %\n"
     ]
    },
    {
     "name": "stderr",
     "output_type": "stream",
     "text": [
      "The code for file hw2.pyc ran for 0.28m\n"
     ]
    }
   ],
   "source": [
    "if __name__ == '__main__':\n",
    "    test_mlp(learning_rate=0.01, L1_reg=0.00, L2_reg=0.001, n_epochs=1000,\n",
    "             batch_size=20, n_hidden=50, verbose=False)\n",
    "# I wrote the softmax form in hw2 and import hw2 which contains 2 hidden layers.\n",
    "# for softmax, I the test performace is 80.415% as shown below, and the accuracy is 19.6%\n",
    "# for tanh as I did in part 3, the accuracy is about 74%. We can see that under the same\n",
    "# parameters, the accuracy of tanh is much higher than that of softmax."
   ]
  },
  {
   "cell_type": "markdown",
   "metadata": {},
   "source": [
    "### Bullet 3: Experiment with the number of hidden layers"
   ]
  },
  {
   "cell_type": "code",
   "execution_count": null,
   "metadata": {
    "collapsed": false
   },
   "outputs": [
    {
     "name": "stdout",
     "output_type": "stream",
     "text": [
      "... loading data\n",
      "... building the model\n",
      "... training\n",
      "Optimization complete. Best validation score of 24.221311 % obtained at iteration 276864, with test performance 26.056879 %\n",
      "... loading data\n",
      "... building the model\n",
      "... training\n",
      "Optimization complete. Best validation score of 29.822404 % obtained at iteration 240608, with test performance 32.129131 %"
     ]
    },
    {
     "name": "stderr",
     "output_type": "stream",
     "text": [
      "The code for file hw2b.pyc ran for 9.42m\n",
      "The code for file hw2b.pyc ran for 7.01m"
     ]
    },
    {
     "name": "stdout",
     "output_type": "stream",
     "text": [
      "\n",
      "... loading data\n",
      "... building the model\n",
      "... training\n",
      "Optimization complete. Best validation score of 20.833333 % obtained at iteration 270272, with test performance 22.344350 %"
     ]
    },
    {
     "name": "stderr",
     "output_type": "stream",
     "text": [
      "\n",
      "The code for file hw2b.pyc ran for 9.17m"
     ]
    },
    {
     "name": "stdout",
     "output_type": "stream",
     "text": [
      "\n",
      "... loading data\n",
      "... building the model\n",
      "... training\n",
      "Optimization complete. Best validation score of 21.775956 % obtained at iteration 649312, with test performance 22.870869 %"
     ]
    },
    {
     "name": "stderr",
     "output_type": "stream",
     "text": [
      "\n",
      "The code for file hw2b.pyc ran for 18.02m"
     ]
    },
    {
     "name": "stdout",
     "output_type": "stream",
     "text": [
      "\n",
      "... loading data\n",
      "... building the model\n",
      "... training"
     ]
    }
   ],
   "source": [
    "if __name__ == '__main__':\n",
    "    res = []\n",
    "    layers = 8\n",
    "    for n_la in range(0,layers):\n",
    "        accuracy = test_mlp(learning_rate=0.01, L1_reg=0.00, L2_reg=0.001, n_epochs=1000,\n",
    "             batch_size=20, n_hidden=50, verbose=False, n_layers = n_la)\n",
    "        res.append(accuracy)\n",
    "    print(res)"
   ]
  },
  {
   "cell_type": "markdown",
   "metadata": {},
   "source": [
    "Plot the result (reproducing Figure 1)"
   ]
  },
  {
   "cell_type": "code",
   "execution_count": 3,
   "metadata": {
    "collapsed": false
   },
   "outputs": [
    {
     "name": "stdout",
     "output_type": "stream",
     "text": [
      "... loading data\n",
      "... building the model\n",
      "... training\n",
      "Optimization complete. Best validation score of 20.382514 % obtained at iteration 609760, with test performance 21.137586 %\n",
      "... loading data\n",
      "... building the model\n",
      "... training\n",
      "Optimization complete. Best validation score of 22.732240 % obtained at iteration 273568, with test performance 24.596464 %"
     ]
    },
    {
     "name": "stderr",
     "output_type": "stream",
     "text": [
      "The code for file hw2b.pyc ran for 29.52m\n",
      "The code for file hw2b.pyc ran for 17.29m"
     ]
    },
    {
     "name": "stdout",
     "output_type": "stream",
     "text": [
      "\n",
      "... loading data\n",
      "... building the model\n",
      "... training\n",
      "Optimization complete. Best validation score of 19.030055 % obtained at iteration 2214912, with test performance 20.680246 %"
     ]
    },
    {
     "name": "stderr",
     "output_type": "stream",
     "text": [
      "\n",
      "The code for file hw2b.pyc ran for 112.65m"
     ]
    },
    {
     "name": "stdout",
     "output_type": "stream",
     "text": [
      "\n",
      "... loading data\n",
      "... building the model\n",
      "... training\n",
      "Optimization complete. Best validation score of 25.396175 % obtained at iteration 181280, with test performance 27.094543 %"
     ]
    },
    {
     "name": "stderr",
     "output_type": "stream",
     "text": [
      "\n",
      "The code for file hw2b.pyc ran for 11.83m"
     ]
    },
    {
     "name": "stdout",
     "output_type": "stream",
     "text": [
      "\n",
      "[78.862413528055342, 75.40353574173713, 79.31975403535742, 72.905457340507297]\n"
     ]
    },
    {
     "name": "stderr",
     "output_type": "stream",
     "text": [
      "\n"
     ]
    }
   ],
   "source": [
    "if __name__ == '__main__':\n",
    "    res = []\n",
    "    layers = 8\n",
    "    for n_la in range(4,layers):\n",
    "        accuracy = test_mlp(learning_rate=0.01, L1_reg=0.00, L2_reg=0.001, n_epochs=1000,\n",
    "             batch_size=20, n_hidden=50, verbose=False, n_layers = n_la)\n",
    "        res.append(accuracy)\n",
    "    print(res)"
   ]
  },
  {
   "cell_type": "markdown",
   "metadata": {},
   "source": [
    "Document the choice of parameters, and discuss what you discover."
   ]
  },
  {
   "cell_type": "code",
   "execution_count": 2,
   "metadata": {
    "collapsed": false
   },
   "outputs": [
    {
     "data": {
      "image/png": "[encoded data removed]",
      "text/plain": [
       "<IPython.core.display.Image object>"
      ]
     },
     "execution_count": 2,
     "metadata": {},
     "output_type": "execute_result"
    }
   ],
   "source": [
    "# TODO\n",
    "# As n_layers have a tendency to increase from 0 to 7(the hidden layers is 0 to 7 and the total \n",
    "# number of layers is 3 to 10) The accuracy increases from 68% to above 78% and maintains at 78%,\n",
    "# finally dropped at 8 hidden layers. It may be caused by the L2 since while doing gradient\n",
    "# descent, the result may converge at some point near the minimun point instead of exact that \n",
    "# point. Besides, there are ohter reasons that may influence the result. For example, the test\n",
    "# data may also cause a low accuracy at some point.\n",
    "# Since the connection to the notebook is broken after the fisrt 4 loops, I stared the last 4 in\n",
    "# another loop so the code is in two parts and the plot is moved to part 3.\n",
    "# the parameteres are learning_rate=0.01, L1_reg=0.00, L2_reg=0.001, n_epochs=1000,\n",
    "# batch_size=20, n_hidden=50, verbose=False, n_layers from 0 to 7\n",
    "X = [3,4,5,6,7,8,9,10]\n",
    "plt.plot(X, res)\n",
    "plt.savefig('bullet3.png')\n",
    "Image(filename='bullet3.png')\n"
   ]
  },
  {
   "cell_type": "markdown",
   "metadata": {},
   "source": [
    "### Bullet 4: Experiment with the number of hidden layers, but fix the total number of neurons"
   ]
  },
  {
   "cell_type": "code",
   "execution_count": 2,
   "metadata": {
    "collapsed": false
   },
   "outputs": [
    {
     "name": "stdout",
     "output_type": "stream",
     "text": [
      "... loading data\n",
      "... building the model\n",
      "... training\n",
      "Optimization complete. Best validation score of 22.786885 % obtained at iteration 121952, with test performance 24.811683 %\n",
      "... loading data\n",
      "... building the model\n",
      "... training\n",
      "Optimization complete. Best validation score of 16.653005 % obtained at iteration 257088, with test performance 18.966180 %"
     ]
    },
    {
     "name": "stderr",
     "output_type": "stream",
     "text": [
      "The code for file hw2b.pyc ran for 23.94m\n",
      "The code for file hw2b.pyc ran for 34.96m"
     ]
    },
    {
     "name": "stdout",
     "output_type": "stream",
     "text": [
      "\n",
      "... loading data\n",
      "... building the model\n",
      "... training\n",
      "Optimization complete. Best validation score of 16.147541 % obtained at iteration 649312, with test performance 18.604919 %"
     ]
    },
    {
     "name": "stderr",
     "output_type": "stream",
     "text": [
      "\n",
      "The code for file hw2b.pyc ran for 41.19m"
     ]
    },
    {
     "name": "stdout",
     "output_type": "stream",
     "text": [
      "\n",
      "... loading data\n",
      "... building the model\n",
      "... training\n",
      "Optimization complete. Best validation score of 17.008197 % obtained at iteration 639424, with test performance 20.415065 %"
     ]
    },
    {
     "name": "stderr",
     "output_type": "stream",
     "text": [
      "\n",
      "The code for file hw2b.pyc ran for 35.90m"
     ]
    },
    {
     "name": "stdout",
     "output_type": "stream",
     "text": [
      "\n",
      "... loading data\n",
      "... building the model\n",
      "... training\n",
      "Optimization complete. Best validation score of 19.890710 % obtained at iteration 92288, with test performance 21.514220 %"
     ]
    },
    {
     "name": "stderr",
     "output_type": "stream",
     "text": [
      "\n",
      "The code for file hw2b.pyc ran for 9.08m"
     ]
    },
    {
     "name": "stdout",
     "output_type": "stream",
     "text": [
      "\n",
      "... loading data\n",
      "... building the model\n",
      "... training\n",
      "Optimization complete. Best validation score of 17.390710 % obtained at iteration 622944, with test performance 20.918524 %"
     ]
    },
    {
     "name": "stderr",
     "output_type": "stream",
     "text": [
      "\n",
      "The code for file hw2b.pyc ran for 31.56m"
     ]
    },
    {
     "name": "stdout",
     "output_type": "stream",
     "text": [
      "\n",
      "... loading data\n",
      "... building the model\n",
      "... training\n",
      "Optimization complete. Best validation score of 22.636612 % obtained at iteration 62624, with test performance 24.200615 %"
     ]
    },
    {
     "name": "stderr",
     "output_type": "stream",
     "text": [
      "\n",
      "The code for file hw2b.pyc ran for 5.60m"
     ]
    },
    {
     "name": "stdout",
     "output_type": "stream",
     "text": [
      "\n",
      "... loading data\n",
      "... building the model\n",
      "... training\n",
      "Optimization complete. Best validation score of 17.595628 % obtained at iteration 570208, with test performance 20.511145 %"
     ]
    },
    {
     "name": "stderr",
     "output_type": "stream",
     "text": [
      "\n",
      "The code for file hw2b.pyc ran for 30.83m"
     ]
    },
    {
     "name": "stdout",
     "output_type": "stream",
     "text": [
      "\n",
      "[75.188316679477325, 81.033820138355111, 81.395080707148338, 79.584934665641811, 78.485780169100693, 79.081475787855496, 75.799385088393535, 79.488854727132974]\n"
     ]
    },
    {
     "name": "stderr",
     "output_type": "stream",
     "text": [
      "\n"
     ]
    }
   ],
   "source": [
    "# TODO\n",
    "if __name__ == '__main__':\n",
    "    res4 = []\n",
    "    layers = 8\n",
    "    for n_la in range(0,layers):\n",
    "        accuracy = test_mlp(learning_rate=0.01, L1_reg=0.00, L2_reg=0.0001, n_epochs=200,\n",
    "             batch_size=20, n_hidden=840/(n_la + 1), verbose=False, n_layers = n_la)\n",
    "        res4.append(accuracy)\n",
    "    print(res4)"
   ]
  },
  {
   "cell_type": "markdown",
   "metadata": {},
   "source": [
    "Plot the result (reproducing Figure 2)"
   ]
  },
  {
   "cell_type": "code",
   "execution_count": 8,
   "metadata": {
    "collapsed": false
   },
   "outputs": [
    {
     "data": {
      "image/png": "[encoded data removed]",
      "text/plain": [
       "<IPython.core.display.Image object>"
      ]
     },
     "execution_count": 8,
     "metadata": {},
     "output_type": "execute_result"
    }
   ],
   "source": [
    "# TODO\n",
    "X = [1,2,3,4,5,6,7,8]\n",
    "plt.plot(X, res4)\n",
    "plt.savefig('bullet4.png')\n",
    "Image(filename='bullet4.png') "
   ]
  },
  {
   "cell_type": "markdown",
   "metadata": {},
   "source": [
    "Document the choice of parameters, and discuss what you discover."
   ]
  },
  {
   "cell_type": "code",
   "execution_count": null,
   "metadata": {
    "collapsed": true
   },
   "outputs": [],
   "source": [
    "# TODO\n",
    "# I use the parameters learning_rate=0.01, L1_reg=0.00, L2_reg=0.0001, n_epochs=100,\n",
    "# batch_size=20, n_hidden=840/(n_la + 1), verbose=False, n_layers = n_la, and the n_hiddens\n",
    "# decreases from 840, 420, 280, 210, 168, 140, 120 to 105. As the picturen shows, the accuracy\n",
    "# reaches the max about 81.5% at n_hidden = 280 and decreases as n_la increases. The accuracy \n",
    "# first increases because the number of hidden layers increases and then decreases because the\n",
    "# neurons in each layer decreases."
   ]
  },
  {
   "cell_type": "markdown",
   "metadata": {},
   "source": [
    "### Bullet 5: Experiment with the number of neurons in hidden layers, but fix the number of hidden layers"
   ]
  },
  {
   "cell_type": "code",
   "execution_count": 2,
   "metadata": {
    "collapsed": false,
    "scrolled": false
   },
   "outputs": [
    {
     "name": "stdout",
     "output_type": "stream",
     "text": [
      "... loading data\n",
      "... building the model\n",
      "... training\n",
      "Optimization complete. Best validation score of 23.756831 % obtained at iteration 474624, with test performance 26.106841 %\n",
      "... loading data\n",
      "... building the model\n",
      "... training\n",
      "Optimization complete. Best validation score of 20.737705 % obtained at iteration 655904, with test performance 22.171407 %"
     ]
    },
    {
     "name": "stderr",
     "output_type": "stream",
     "text": [
      "The code for file hw2b.pyc ran for 15.66m\n",
      "The code for file hw2b.pyc ran for 25.93m"
     ]
    },
    {
     "name": "stdout",
     "output_type": "stream",
     "text": [
      "\n",
      "... loading data\n",
      "... building the model\n",
      "... training\n",
      "Optimization complete. Best validation score of 23.483607 % obtained at iteration 187872, with test performance 25.049962 %"
     ]
    },
    {
     "name": "stderr",
     "output_type": "stream",
     "text": [
      "\n",
      "The code for file hw2b.pyc ran for 10.02m"
     ]
    },
    {
     "name": "stdout",
     "output_type": "stream",
     "text": [
      "\n",
      "... loading data\n",
      "... building the model\n",
      "... training\n",
      "Optimization complete. Best validation score of 21.502732 % obtained at iteration 299936, with test performance 22.386626 %"
     ]
    },
    {
     "name": "stderr",
     "output_type": "stream",
     "text": [
      "\n",
      "The code for file hw2b.pyc ran for 19.89m"
     ]
    },
    {
     "name": "stdout",
     "output_type": "stream",
     "text": [
      "\n",
      "... loading data\n",
      "... building the model\n",
      "... training\n",
      "Optimization complete. Best validation score of 24.590164 % obtained at iteration 115360, with test performance 26.521906 %"
     ]
    },
    {
     "name": "stderr",
     "output_type": "stream",
     "text": [
      "\n",
      "The code for file hw2b.pyc ran for 13.84m"
     ]
    },
    {
     "name": "stdout",
     "output_type": "stream",
     "text": [
      "\n",
      "[73.893159108378171, 77.828593389700231, 74.9500384319754, 77.613374327440425, 73.478093774019982]\n"
     ]
    },
    {
     "name": "stderr",
     "output_type": "stream",
     "text": [
      "\n"
     ]
    }
   ],
   "source": [
    "# TODO\n",
    "if __name__ == '__main__':\n",
    "    res51 = []\n",
    "    layers = 5\n",
    "    for hid in range(0,layers):\n",
    "        accuracy = test_mlp(learning_rate=0.01, L1_reg=0.00, L2_reg=0.0005, n_epochs=200,\n",
    "             batch_size=20, n_hidden=100*(hid + 1), verbose=False, n_layers = 0)\n",
    "        res51.append(accuracy)\n",
    "    print(res51)"
   ]
  },
  {
   "cell_type": "markdown",
   "metadata": {},
   "source": [
    "Plot the result (reproducing Figure 3)"
   ]
  },
  {
   "cell_type": "code",
   "execution_count": 12,
   "metadata": {
    "collapsed": false
   },
   "outputs": [
    {
     "data": {
      "image/png": "[encoded data removed]",
      "text/plain": [
       "<IPython.core.display.Image object>"
      ]
     },
     "execution_count": 12,
     "metadata": {},
     "output_type": "execute_result"
    }
   ],
   "source": [
    "# TODO\n",
    "res51 = [73.893159108378171, 77.828593389700231, 74.9500384319754, 77.613374327440425, 73.478093774019982]\n",
    "X = [100,200,300,400,500]\n",
    "plt.plot(X, res51)\n",
    "plt.savefig('bullet51.png')\n",
    "plt.close()\n",
    "Image(filename='bullet51.png')"
   ]
  },
  {
   "cell_type": "markdown",
   "metadata": {},
   "source": [
    "Document the choice of parameters, and discuss what you discover."
   ]
  },
  {
   "cell_type": "code",
   "execution_count": null,
   "metadata": {
    "collapsed": true
   },
   "outputs": [],
   "source": [
    "# TODO\n",
    "# I run with number of neurons in hidden layer from 100 to 500 and with 1 hidden layer\n",
    "# (n_layers = 0)in line blue. Other parameters are learning_rate=0.01, L1_reg=0.00, L2_reg=0.0001,\n",
    "# n_epochs=200, batch_size=20, n_hidden=100*(n_la + 1), verbose=False, n_layers = 0)\n",
    "# We can see that there is no obvious tendency for as the number of neurons increases."
   ]
  }
 ],
 "metadata": {
  "kernelspec": {
   "display_name": "Python 2",
   "language": "python",
   "name": "python2"
  },
  "language_info": {
   "codemirror_mode": {
    "name": "ipython",
    "version": 2
   },
   "file_extension": ".py",
   "mimetype": "text/x-python",
   "name": "python",
   "nbconvert_exporter": "python",
   "pygments_lexer": "ipython2",
   "version": "2.7.11"
  }
 },
 "nbformat": 4,
 "nbformat_minor": 0
}
